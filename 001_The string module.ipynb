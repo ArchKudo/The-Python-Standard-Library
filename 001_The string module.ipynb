{
 "cells": [
  {
   "cell_type": "markdown",
   "metadata": {},
   "source": [
    "## Capitalizing each word in sentence using capwords\n",
    "\n",
    "Equivalent to str.split().capitalize.join()"
   ]
  },
  {
   "cell_type": "code",
   "execution_count": 1,
   "metadata": {
    "collapsed": true
   },
   "outputs": [],
   "source": [
    "from string import capwords"
   ]
  },
  {
   "cell_type": "code",
   "execution_count": 2,
   "metadata": {
    "collapsed": true
   },
   "outputs": [],
   "source": [
    "string = 'I got the mean jumper blues'"
   ]
  },
  {
   "cell_type": "code",
   "execution_count": 3,
   "metadata": {
    "collapsed": false
   },
   "outputs": [],
   "source": [
    "s = ''\n",
    "for i in string.split():\n",
    "    s += ''.join(i.capitalize() + ' ')"
   ]
  },
  {
   "cell_type": "code",
   "execution_count": 4,
   "metadata": {
    "collapsed": false
   },
   "outputs": [
    {
     "name": "stdout",
     "output_type": "stream",
     "text": [
      "I Got The Mean Jumper Blues \n"
     ]
    }
   ],
   "source": [
    "print(s)"
   ]
  },
  {
   "cell_type": "code",
   "execution_count": 5,
   "metadata": {
    "collapsed": false
   },
   "outputs": [
    {
     "name": "stdout",
     "output_type": "stream",
     "text": [
      "I Got The Mean Jumper Blues\n"
     ]
    }
   ],
   "source": [
    "# The above is eqvalent to\n",
    "print(capwords(s))"
   ]
  },
  {
   "cell_type": "markdown",
   "metadata": {},
   "source": [
    "## String Interpolation using the Template class\n",
    "(Replaces the % and {} operator)"
   ]
  },
  {
   "cell_type": "markdown",
   "metadata": {},
   "source": [
    "### Using the \\$ operator\n",
    "1. $$ is escape\n",
    "2. $identifier substitutes keyword matching a mapping of key identifier\n",
    "3. ${identifier} for using with compound words"
   ]
  },
  {
   "cell_type": "code",
   "execution_count": 6,
   "metadata": {
    "collapsed": true
   },
   "outputs": [],
   "source": [
    "from string import Template"
   ]
  },
  {
   "cell_type": "code",
   "execution_count": 7,
   "metadata": {
    "collapsed": true
   },
   "outputs": [],
   "source": [
    "string = Template('$person ${verb}s $obj.')"
   ]
  },
  {
   "cell_type": "code",
   "execution_count": 8,
   "metadata": {
    "collapsed": false
   },
   "outputs": [
    {
     "name": "stdout",
     "output_type": "stream",
     "text": [
      "Doyle eats apples.\n"
     ]
    }
   ],
   "source": [
    "print(string.substitute(person='Doyle', verb='eat', obj='apples'))"
   ]
  },
  {
   "cell_type": "markdown",
   "metadata": {},
   "source": [
    "### Substitute returns KeyError for missing keyword\n",
    "Use safe_substitute instead to eat KeyError"
   ]
  },
  {
   "cell_type": "code",
   "execution_count": 9,
   "metadata": {
    "collapsed": false
   },
   "outputs": [
    {
     "name": "stdout",
     "output_type": "stream",
     "text": [
      "Keyword error at: 'verb'\n"
     ]
    }
   ],
   "source": [
    "try:\n",
    "    print(string.substitute(person='Michael'))\n",
    "except KeyError as e:\n",
    "    print('Keyword error at: ' + str(e))"
   ]
  },
  {
   "cell_type": "code",
   "execution_count": 10,
   "metadata": {
    "collapsed": false
   },
   "outputs": [
    {
     "name": "stdout",
     "output_type": "stream",
     "text": [
      "Dave ${verb}s $obj.\n"
     ]
    }
   ],
   "source": [
    "print(string.safe_substitute(person='Dave'))"
   ]
  },
  {
   "cell_type": "markdown",
   "metadata": {},
   "source": [
    "### Another example"
   ]
  },
  {
   "cell_type": "code",
   "execution_count": 11,
   "metadata": {
    "collapsed": true
   },
   "outputs": [],
   "source": [
    "value = {'var': 'Tree Top'}"
   ]
  },
  {
   "cell_type": "markdown",
   "metadata": {},
   "source": [
    "1. Using %"
   ]
  },
  {
   "cell_type": "code",
   "execution_count": 12,
   "metadata": {
    "collapsed": true
   },
   "outputs": [],
   "source": [
    "s = \"\"\"\n",
    "Variable        : %(var)s\n",
    "Escape          : %%\n",
    "Variable in text: %(var)siable\n",
    "\"\"\""
   ]
  },
  {
   "cell_type": "code",
   "execution_count": 13,
   "metadata": {
    "collapsed": false
   },
   "outputs": [
    {
     "name": "stdout",
     "output_type": "stream",
     "text": [
      "INTERPOLATION: \n",
      "Variable        : Tree Top\n",
      "Escape          : %\n",
      "Variable in text: Tree Topiable\n",
      "\n"
     ]
    }
   ],
   "source": [
    "print('INTERPOLATION:', s % value)"
   ]
  },
  {
   "cell_type": "markdown",
   "metadata": {},
   "source": [
    "2\\. Using {}"
   ]
  },
  {
   "cell_type": "code",
   "execution_count": 14,
   "metadata": {
    "collapsed": true
   },
   "outputs": [],
   "source": [
    "s = \"\"\"\n",
    "Variable        : {var}\n",
    "Escape          : {{}}\n",
    "Variable in text: {var}iable\n",
    "\"\"\""
   ]
  },
  {
   "cell_type": "code",
   "execution_count": 15,
   "metadata": {
    "collapsed": false
   },
   "outputs": [
    {
     "name": "stdout",
     "output_type": "stream",
     "text": [
      "FORMAT \n",
      "Variable        : Tree Top\n",
      "Escape          : {}\n",
      "Variable in text: Tree Topiable\n",
      "\n"
     ]
    }
   ],
   "source": [
    "print('FORMAT', s.format(**value))"
   ]
  },
  {
   "cell_type": "markdown",
   "metadata": {},
   "source": [
    "3\\. Using $"
   ]
  },
  {
   "cell_type": "code",
   "execution_count": 16,
   "metadata": {
    "collapsed": true
   },
   "outputs": [],
   "source": [
    "s = Template(\"\"\"\n",
    "Variable        : $var\n",
    "Escape          : $$\n",
    "Variable in text: ${var}iable\n",
    "\"\"\")"
   ]
  },
  {
   "cell_type": "code",
   "execution_count": 17,
   "metadata": {
    "collapsed": false
   },
   "outputs": [
    {
     "name": "stdout",
     "output_type": "stream",
     "text": [
      "TEMPLATE: \n",
      "Variable        : Tree Top\n",
      "Escape          : $\n",
      "Variable in text: Tree Topiable\n",
      "\n"
     ]
    }
   ],
   "source": [
    "print('TEMPLATE:', s.safe_substitute(value))"
   ]
  },
  {
   "cell_type": "markdown",
   "metadata": {},
   "source": [
    "### NOTE: No formatting option is provided all arguments are converted to string"
   ]
  },
  {
   "cell_type": "markdown",
   "metadata": {},
   "source": [
    "### Using regex to match words for substitutions"
   ]
  },
  {
   "cell_type": "code",
   "execution_count": 18,
   "metadata": {
    "collapsed": true
   },
   "outputs": [],
   "source": [
    "class UnderScoreTemplate(Template):\n",
    "    delimiter = '%' # Changing the delimiter to %\n",
    "    idpattern = '[a-z]+_[a-z]+' # Matching variable names with underscores in the middle"
   ]
  },
  {
   "cell_type": "code",
   "execution_count": 19,
   "metadata": {
    "collapsed": true
   },
   "outputs": [],
   "source": [
    "template_text = '''\n",
    "    Delimiter: %%\n",
    "    Replaced: %with_underscore\n",
    "    Not-Replaced: %withoutUnderscore\n",
    "'''"
   ]
  },
  {
   "cell_type": "code",
   "execution_count": 20,
   "metadata": {
    "collapsed": true
   },
   "outputs": [],
   "source": [
    "subs = {'with_underscore': 'I am replaced', \n",
    "       'withoutUnderscore': 'I am not'}"
   ]
  },
  {
   "cell_type": "code",
   "execution_count": 21,
   "metadata": {
    "collapsed": true
   },
   "outputs": [],
   "source": [
    "string = UnderScoreTemplate(template_text)"
   ]
  },
  {
   "cell_type": "code",
   "execution_count": 22,
   "metadata": {
    "collapsed": false
   },
   "outputs": [
    {
     "name": "stdout",
     "output_type": "stream",
     "text": [
      "Modified ID pattern \n",
      "    Delimiter: %\n",
      "    Replaced: I am replaced\n",
      "    Not-Replaced: %withoutUnderscore\n",
      "\n"
     ]
    }
   ],
   "source": [
    "print('Modified ID pattern', string.safe_substitute(subs))"
   ]
  },
  {
   "cell_type": "markdown",
   "metadata": {},
   "source": [
    "## String Constants"
   ]
  },
  {
   "cell_type": "code",
   "execution_count": 23,
   "metadata": {
    "collapsed": true
   },
   "outputs": [],
   "source": [
    "import string, inspect"
   ]
  },
  {
   "cell_type": "code",
   "execution_count": 24,
   "metadata": {
    "collapsed": false
   },
   "outputs": [
    {
     "name": "stdout",
     "output_type": "stream",
     "text": [
      "ascii_letters='abcdefghijklmnopqrstuvwxyzABCDEFGHIJKLMNOPQRSTUVWXYZ'\n",
      "ascii_lowercase='abcdefghijklmnopqrstuvwxyz'\n",
      "ascii_uppercase='ABCDEFGHIJKLMNOPQRSTUVWXYZ'\n",
      "digits='0123456789'\n",
      "hexdigits='0123456789abcdefABCDEF'\n",
      "octdigits='01234567'\n",
      "printable='0123456789abcdefghijklmnopqrstuvwxyzABCDEFGHIJKLMNOPQRSTUVWXYZ!\"#$%&\\'()*+,-./:;<=>?@[\\\\]^_`{|}~ \\t\\n\\r\\x0b\\x0c'\n",
      "punctuation='!\"#$%&\\'()*+,-./:;<=>?@[\\\\]^_`{|}~'\n",
      "whitespace=' \\t\\n\\r\\x0b\\x0c'\n"
     ]
    }
   ],
   "source": [
    "def isstring(val):\n",
    "    return isinstance(val, str)\n",
    "\n",
    "for k, v in inspect.getmembers(string, isstring):\n",
    "    if k.startswith('__'):\n",
    "        continue\n",
    "    print('{}={!r}'.format(k, v))"
   ]
  }
 ],
 "metadata": {
  "kernelspec": {
   "display_name": "Python [conda root]",
   "language": "python",
   "name": "conda-root-py"
  },
  "language_info": {
   "codemirror_mode": {
    "name": "ipython",
    "version": 3
   },
   "file_extension": ".py",
   "mimetype": "text/x-python",
   "name": "python",
   "nbconvert_exporter": "python",
   "pygments_lexer": "ipython3",
   "version": "3.5.2"
  }
 },
 "nbformat": 4,
 "nbformat_minor": 2
}
