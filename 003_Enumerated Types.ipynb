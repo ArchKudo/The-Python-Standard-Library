{
 "cells": [
  {
   "cell_type": "code",
   "execution_count": 1,
   "metadata": {
    "collapsed": true
   },
   "outputs": [],
   "source": [
    "import enum"
   ]
  },
  {
   "cell_type": "markdown",
   "metadata": {},
   "source": [
    "## Creation"
   ]
  },
  {
   "cell_type": "code",
   "execution_count": 2,
   "metadata": {
    "collapsed": true
   },
   "outputs": [],
   "source": [
    "class BugStatus(enum.Enum):\n",
    "    new = 7\n",
    "    incomplete = 6\n",
    "    invalid = 5\n",
    "    ignored = 4\n",
    "    progressing = 3\n",
    "    fixing = 2\n",
    "    fixed = 1"
   ]
  },
  {
   "cell_type": "markdown",
   "metadata": {},
   "source": [
    "## Iteration"
   ]
  },
  {
   "cell_type": "code",
   "execution_count": 6,
   "metadata": {
    "collapsed": false
   },
   "outputs": [
    {
     "name": "stdout",
     "output_type": "stream",
     "text": [
      "Member Name: new\n",
      "Member Value: 7\n",
      "\n",
      "Member Name: incomplete\n",
      "Member Value: 6\n",
      "\n",
      "Member Name: invalid\n",
      "Member Value: 5\n",
      "\n",
      "Member Name: ignored\n",
      "Member Value: 4\n",
      "\n",
      "Member Name: progressing\n",
      "Member Value: 3\n",
      "\n",
      "Member Name: fixing\n",
      "Member Value: 2\n",
      "\n",
      "Member Name: fixed\n",
      "Member Value: 1\n",
      "\n"
     ]
    }
   ],
   "source": [
    "for member in BugStatus:\n",
    "    print('Member Name: %s' % (member.name))\n",
    "    print('Member Value: %s' % (member.value))\n",
    "    print()"
   ]
  },
  {
   "cell_type": "markdown",
   "metadata": {},
   "source": [
    "## Comparision\n",
    "enum.Enum only supports equality and identity operators"
   ]
  },
  {
   "cell_type": "code",
   "execution_count": 7,
   "metadata": {
    "collapsed": false
   },
   "outputs": [
    {
     "data": {
      "text/plain": [
       "False"
      ]
     },
     "execution_count": 7,
     "metadata": {},
     "output_type": "execute_result"
    }
   ],
   "source": [
    "BugStatus.fixed == BugStatus.fixing"
   ]
  },
  {
   "cell_type": "code",
   "execution_count": 8,
   "metadata": {
    "collapsed": true
   },
   "outputs": [],
   "source": [
    "fix = BugStatus.fixed"
   ]
  },
  {
   "cell_type": "code",
   "execution_count": 9,
   "metadata": {
    "collapsed": false
   },
   "outputs": [
    {
     "data": {
      "text/plain": [
       "True"
      ]
     },
     "execution_count": 9,
     "metadata": {},
     "output_type": "execute_result"
    }
   ],
   "source": [
    "fix is BugStatus.fixed"
   ]
  },
  {
   "cell_type": "code",
   "execution_count": 10,
   "metadata": {
    "collapsed": false
   },
   "outputs": [
    {
     "data": {
      "text/plain": [
       "False"
      ]
     },
     "execution_count": 10,
     "metadata": {},
     "output_type": "execute_result"
    }
   ],
   "source": [
    "fix is BugStatus.ignored"
   ]
  },
  {
   "cell_type": "code",
   "execution_count": 18,
   "metadata": {
    "collapsed": false
   },
   "outputs": [
    {
     "name": "stdout",
     "output_type": "stream",
     "text": [
      "Aaahh! no less than, greater than operations\n"
     ]
    }
   ],
   "source": [
    "try:\n",
    "    print(sorted(BugStatus))\n",
    "except:\n",
    "    print('Aaahh! no less than, greater than operations')"
   ]
  },
  {
   "cell_type": "markdown",
   "metadata": {},
   "source": [
    "### More comparisions with IntEnum"
   ]
  },
  {
   "cell_type": "code",
   "execution_count": 19,
   "metadata": {
    "collapsed": true
   },
   "outputs": [],
   "source": [
    "class BugStatus(enum.IntEnum):\n",
    "    new = 7\n",
    "    incomplete = 6\n",
    "    invalid = 5\n",
    "    ignored = 4\n",
    "    progressing = 3\n",
    "    fixing = 2\n",
    "    fixed = 1"
   ]
  },
  {
   "cell_type": "code",
   "execution_count": 20,
   "metadata": {
    "collapsed": false
   },
   "outputs": [
    {
     "name": "stdout",
     "output_type": "stream",
     "text": [
      "[<BugStatus.fixed: 1>, <BugStatus.fixing: 2>, <BugStatus.progressing: 3>, <BugStatus.ignored: 4>, <BugStatus.invalid: 5>, <BugStatus.incomplete: 6>, <BugStatus.new: 7>]\n"
     ]
    }
   ],
   "source": [
    "print(sorted(BugStatus))"
   ]
  },
  {
   "cell_type": "markdown",
   "metadata": {},
   "source": [
    "### Unique decorator"
   ]
  },
  {
   "cell_type": "code",
   "execution_count": 21,
   "metadata": {
    "collapsed": true
   },
   "outputs": [],
   "source": [
    "@enum.unique\n",
    "class BugStatus(enum.Enum):\n",
    "    new = 7\n",
    "    incomplete = 6\n",
    "    invalid = 5\n",
    "    ignored = 4\n",
    "    progressing = 3\n",
    "    fixing = 2\n",
    "    fixed = 1\n",
    "    \n",
    "    # closed = 1 # Will raise error"
   ]
  },
  {
   "cell_type": "markdown",
   "metadata": {},
   "source": [
    "## Creating Enumerations programmatically"
   ]
  },
  {
   "cell_type": "code",
   "execution_count": 22,
   "metadata": {
    "collapsed": true
   },
   "outputs": [],
   "source": [
    "BugStatus = enum.Enum(\n",
    "    value='BugStatus',\n",
    "    names=('fix_released fix_committed in_progress '\n",
    "           'wont_fix invalid incomplete new')\n",
    ")"
   ]
  },
  {
   "cell_type": "code",
   "execution_count": 23,
   "metadata": {
    "collapsed": false
   },
   "outputs": [
    {
     "name": "stdout",
     "output_type": "stream",
     "text": [
      "fix_released  =  1\n",
      "fix_committed  =  2\n",
      "in_progress  =  3\n",
      "wont_fix  =  4\n",
      "invalid  =  5\n",
      "incomplete  =  6\n",
      "new  =  7\n"
     ]
    }
   ],
   "source": [
    "for member in BugStatus:\n",
    "    print(member.name, ' = ', member.value)"
   ]
  },
  {
   "cell_type": "markdown",
   "metadata": {},
   "source": [
    "### Setting values"
   ]
  },
  {
   "cell_type": "code",
   "execution_count": 24,
   "metadata": {
    "collapsed": true
   },
   "outputs": [],
   "source": [
    "BugStatus = enum.Enum(\n",
    "    value='BugStatus',\n",
    "    names=[\n",
    "        ('new', 7),\n",
    "        ('incomplete', 6),\n",
    "        ('invalid', 5),\n",
    "        ('wont_fix', 4),\n",
    "        ('in_progress', 3),\n",
    "        ('fix_committed', 2),\n",
    "        ('fix_released', 1),\n",
    "    ],\n",
    ")"
   ]
  },
  {
   "cell_type": "code",
   "execution_count": 25,
   "metadata": {
    "collapsed": false
   },
   "outputs": [
    {
     "name": "stdout",
     "output_type": "stream",
     "text": [
      "new  =  7\n",
      "incomplete  =  6\n",
      "invalid  =  5\n",
      "wont_fix  =  4\n",
      "in_progress  =  3\n",
      "fix_committed  =  2\n",
      "fix_released  =  1\n"
     ]
    }
   ],
   "source": [
    "for member in BugStatus:\n",
    "    print(member.name, ' = ', member.value)"
   ]
  },
  {
   "cell_type": "markdown",
   "metadata": {},
   "source": [
    "### Setting non-integer values"
   ]
  },
  {
   "cell_type": "code",
   "execution_count": 26,
   "metadata": {
    "collapsed": true
   },
   "outputs": [],
   "source": [
    "class BugStatus(enum.Enum):\n",
    "\n",
    "    new = (7, ['incomplete',\n",
    "               'invalid',\n",
    "               'wont_fix',\n",
    "               'in_progress'])\n",
    "    incomplete = (6, ['new', 'wont_fix'])\n",
    "    invalid = (5, ['new'])\n",
    "    wont_fix = (4, ['new'])\n",
    "    in_progress = (3, ['new', 'fix_committed'])\n",
    "    fix_committed = (2, ['in_progress', 'fix_released'])\n",
    "    fix_released = (1, ['new'])\n",
    "    \n",
    "    def __init__(self, num, transitions):\n",
    "        self.num = num\n",
    "        self.transitions = transitions\n",
    "        \n",
    "    def can_transition(self, new_state):\n",
    "        return new_state.name in self.transitions"
   ]
  },
  {
   "cell_type": "code",
   "execution_count": 28,
   "metadata": {
    "collapsed": false
   },
   "outputs": [
    {
     "name": "stdout",
     "output_type": "stream",
     "text": [
      "fix_committed (2, ['in_progress', 'fix_released'])\n"
     ]
    }
   ],
   "source": [
    "print(BugStatus.fix_committed.name, BugStatus.fix_committed.value)"
   ]
  },
  {
   "cell_type": "code",
   "execution_count": 29,
   "metadata": {
    "collapsed": false
   },
   "outputs": [
    {
     "name": "stdout",
     "output_type": "stream",
     "text": [
      "True\n"
     ]
    }
   ],
   "source": [
    "print(BugStatus.fix_committed.can_transition(BugStatus.in_progress))"
   ]
  },
  {
   "cell_type": "code",
   "execution_count": 30,
   "metadata": {
    "collapsed": true
   },
   "outputs": [],
   "source": [
    "# Using dicts\n",
    "class BugStatus(enum.Enum):\n",
    "\n",
    "    new = {\n",
    "        'num': 7,\n",
    "        'transitions': [\n",
    "            'incomplete',\n",
    "            'invalid',\n",
    "            'wont_fix',\n",
    "            'in_progress',\n",
    "        ],\n",
    "    }\n",
    "    incomplete = {\n",
    "        'num': 6,\n",
    "        'transitions': ['new', 'wont_fix'],\n",
    "    }\n",
    "    invalid = {\n",
    "        'num': 5,\n",
    "        'transitions': ['new'],\n",
    "    }\n",
    "    wont_fix = {\n",
    "        'num': 4,\n",
    "        'transitions': ['new'],\n",
    "    }\n",
    "    in_progress = {\n",
    "        'num': 3,\n",
    "        'transitions': ['new', 'fix_committed'],\n",
    "    }\n",
    "    fix_committed = {\n",
    "        'num': 2,\n",
    "        'transitions': ['in_progress', 'fix_released'],\n",
    "    }\n",
    "    fix_released = {\n",
    "        'num': 1,\n",
    "        'transitions': ['new'],\n",
    "    }\n",
    "\n",
    "    def __init__(self, vals):\n",
    "        self.num = vals['num']\n",
    "        self.transitions = vals['transitions']\n",
    "\n",
    "    def can_transition(self, new_state):\n",
    "        return new_state.name in self.transitions\n"
   ]
  },
  {
   "cell_type": "code",
   "execution_count": 31,
   "metadata": {
    "collapsed": false
   },
   "outputs": [
    {
     "name": "stdout",
     "output_type": "stream",
     "text": [
      "fix_committed {'num': 2, 'transitions': ['in_progress', 'fix_released']}\n"
     ]
    }
   ],
   "source": [
    "print(BugStatus.fix_committed.name, BugStatus.fix_committed.value)"
   ]
  },
  {
   "cell_type": "code",
   "execution_count": 32,
   "metadata": {
    "collapsed": false
   },
   "outputs": [
    {
     "name": "stdout",
     "output_type": "stream",
     "text": [
      "True\n"
     ]
    }
   ],
   "source": [
    "print(BugStatus.fix_committed.can_transition(BugStatus.in_progress))"
   ]
  },
  {
   "cell_type": "code",
   "execution_count": null,
   "metadata": {
    "collapsed": true
   },
   "outputs": [],
   "source": []
  }
 ],
 "metadata": {
  "kernelspec": {
   "display_name": "Python [conda root]",
   "language": "python",
   "name": "conda-root-py"
  },
  "language_info": {
   "codemirror_mode": {
    "name": "ipython",
    "version": 3
   },
   "file_extension": ".py",
   "mimetype": "text/x-python",
   "name": "python",
   "nbconvert_exporter": "python",
   "pygments_lexer": "ipython3",
   "version": "3.5.2"
  }
 },
 "nbformat": 4,
 "nbformat_minor": 2
}
